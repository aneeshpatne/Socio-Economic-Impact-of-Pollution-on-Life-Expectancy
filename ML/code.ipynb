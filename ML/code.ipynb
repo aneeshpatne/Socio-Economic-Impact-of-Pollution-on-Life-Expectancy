{
 "cells": [
  {
   "cell_type": "code",
   "execution_count": 2,
   "metadata": {},
   "outputs": [],
   "source": [
    "import pandas as pd\n",
    "import matplotlib.pyplot as plt\n",
    "import seaborn as sns\n",
    "from sklearn.ensemble import RandomForestRegressor\n",
    "from sklearn.preprocessing import StandardScaler\n",
    "from sklearn.model_selection import train_test_split"
   ]
  },
  {
   "cell_type": "code",
   "execution_count": 4,
   "metadata": {},
   "outputs": [],
   "source": [
    "aggregated_df = pd.read_csv('aggregated.csv')\n",
    "tobacco_df = pd.read_csv('TObacco.csv')"
   ]
  },
  {
   "cell_type": "code",
   "execution_count": 5,
   "metadata": {},
   "outputs": [
    {
     "data": {
      "text/html": [
       "<div>\n",
       "<style scoped>\n",
       "    .dataframe tbody tr th:only-of-type {\n",
       "        vertical-align: middle;\n",
       "    }\n",
       "\n",
       "    .dataframe tbody tr th {\n",
       "        vertical-align: top;\n",
       "    }\n",
       "\n",
       "    .dataframe thead th {\n",
       "        text-align: right;\n",
       "    }\n",
       "</style>\n",
       "<table border=\"1\" class=\"dataframe\">\n",
       "  <thead>\n",
       "    <tr style=\"text-align: right;\">\n",
       "      <th></th>\n",
       "      <th>Year</th>\n",
       "      <th>PM2.5</th>\n",
       "      <th>Life Expectancy</th>\n",
       "      <th>Income</th>\n",
       "      <th>Sales (Billions)</th>\n",
       "    </tr>\n",
       "  </thead>\n",
       "  <tbody>\n",
       "    <tr>\n",
       "      <th>0</th>\n",
       "      <td>2004</td>\n",
       "      <td>41.961308</td>\n",
       "      <td>65.092857</td>\n",
       "      <td>32767.428571</td>\n",
       "      <td>464.720141</td>\n",
       "    </tr>\n",
       "    <tr>\n",
       "      <th>1</th>\n",
       "      <td>2005</td>\n",
       "      <td>41.536587</td>\n",
       "      <td>65.464286</td>\n",
       "      <td>38957.071429</td>\n",
       "      <td>449.704457</td>\n",
       "    </tr>\n",
       "    <tr>\n",
       "      <th>2</th>\n",
       "      <td>2006</td>\n",
       "      <td>43.130745</td>\n",
       "      <td>65.850000</td>\n",
       "      <td>27910.785714</td>\n",
       "      <td>443.782637</td>\n",
       "    </tr>\n",
       "    <tr>\n",
       "      <th>3</th>\n",
       "      <td>2007</td>\n",
       "      <td>44.233978</td>\n",
       "      <td>66.157143</td>\n",
       "      <td>51336.285714</td>\n",
       "      <td>420.304967</td>\n",
       "    </tr>\n",
       "    <tr>\n",
       "      <th>4</th>\n",
       "      <td>2008</td>\n",
       "      <td>46.996889</td>\n",
       "      <td>66.442857</td>\n",
       "      <td>57525.857143</td>\n",
       "      <td>411.224388</td>\n",
       "    </tr>\n",
       "  </tbody>\n",
       "</table>\n",
       "</div>"
      ],
      "text/plain": [
       "   Year      PM2.5  Life Expectancy        Income  Sales (Billions)\n",
       "0  2004  41.961308        65.092857  32767.428571        464.720141\n",
       "1  2005  41.536587        65.464286  38957.071429        449.704457\n",
       "2  2006  43.130745        65.850000  27910.785714        443.782637\n",
       "3  2007  44.233978        66.157143  51336.285714        420.304967\n",
       "4  2008  46.996889        66.442857  57525.857143        411.224388"
      ]
     },
     "execution_count": 5,
     "metadata": {},
     "output_type": "execute_result"
    }
   ],
   "source": [
    "# Remove the unnecessary 'Unnamed: 0' columns\n",
    "aggregated_df.drop('Unnamed: 0', axis=1, inplace=True)\n",
    "tobacco_df.drop('Unnamed: 0', axis=1, inplace=True)\n",
    "\n",
    "# Merge the datasets on 'Year'\n",
    "merged_df = pd.merge(aggregated_df, tobacco_df, on='Year', how='outer')\n",
    "\n",
    "# Display the first few rows of the merged dataset\n",
    "merged_df.head()\n"
   ]
  },
  {
   "cell_type": "code",
   "execution_count": 6,
   "metadata": {},
   "outputs": [],
   "source": [
    "merged_df.to_csv('merged.csv')"
   ]
  }
 ],
 "metadata": {
  "kernelspec": {
   "display_name": "Python 3",
   "language": "python",
   "name": "python3"
  },
  "language_info": {
   "codemirror_mode": {
    "name": "ipython",
    "version": 3
   },
   "file_extension": ".py",
   "mimetype": "text/x-python",
   "name": "python",
   "nbconvert_exporter": "python",
   "pygments_lexer": "ipython3",
   "version": "3.12.0"
  }
 },
 "nbformat": 4,
 "nbformat_minor": 2
}
